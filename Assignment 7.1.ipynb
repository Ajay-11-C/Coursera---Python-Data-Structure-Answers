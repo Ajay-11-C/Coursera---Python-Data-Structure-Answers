fname = raw_input("Enter file name: ")
fh = open(fname)
for line in fh.readlines():
    print line.upper().strip()
