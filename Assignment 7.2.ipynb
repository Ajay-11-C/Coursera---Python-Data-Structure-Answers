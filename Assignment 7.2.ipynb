fname = raw_input("Enter file name: ")
fh = open(fname)
rez = []
for line in fh.readlines():
    if line.startswith("X-DSPAM-Confidence:"):
        line.replace(" ", "")
        ind = line.find(":")
        rez.append(float(line[ind+1:]))
print "Average spam confidence:", sum(rez)/len(rez)
